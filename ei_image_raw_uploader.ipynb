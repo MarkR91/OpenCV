{
 "cells": [
  {
   "cell_type": "code",
   "execution_count": 147,
   "metadata": {},
   "outputs": [
    {
     "data": {
      "text/plain": [
       "'Author: EdgeImpulse, Inc.\\nDate: June 6, 2021\\nLicense: Apache-2.0'"
      ]
     },
     "execution_count": 147,
     "metadata": {},
     "output_type": "execute_result"
    }
   ],
   "source": [
    "# Modified Raw Uploader for Edge Impulse AI service\n",
    "\n",
    "'''Author: EdgeImpulse, Inc.\n",
    "Date: June 6, 2021\n",
    "License: Apache-2.0'''"
   ]
  },
  {
   "cell_type": "code",
   "execution_count": 148,
   "metadata": {},
   "outputs": [],
   "source": [
    "import numpy as np\n",
    "import matplotlib.pyplot as plt\n",
    "\n",
    "import random, os, PIL, json, time, hmac, hashlib, requests, threading, queue\n",
    "\n",
    "from skimage.transform import resize  # Used to scale/resize image arrays"
   ]
  },
  {
   "cell_type": "code",
   "execution_count": 149,
   "metadata": {},
   "outputs": [],
   "source": [
    "### Settings\n",
    "\n",
    "# Edge Impulse > your_project > Dashboard > Keys\n",
    "EI_API_KEY = \"ei_12aedf63393efc900d389e14d6ffa5dc2c9c8e22f7a83f8091cd8c2aa1850ce7\" \n",
    "EI_HMAC_KEY = \"1b0678bd37f2b1c9749197b3ad196f30\"\n",
    "\n",
    "# Number of threads to run to upload data to Edge Impulse\n",
    "NUM_THREADS = 20\n",
    "\n",
    "# Enter the absoulte path for the location of dataset folder on your computer\n",
    "DATASET_PATH = r\"C:\\...\\...\\...\\Raw_Uploader\\content\\dataset\"\n",
    "\n",
    "# Desired resolution of images\n",
    "TARGET_WIDTH = 28\n",
    "TARGET_HEIGHT = 28\n",
    "\n",
    "# Invert image (dark backgrounds can sometimes improve accuracy)\n",
    "INVERT = False\n",
    "\n",
    "# Set aside 20% for test set (Edge Impulse automatically extracts validation set during training)\n",
    "TEST_RATIO = 0.2\n",
    "\n",
    "# Random seed for validation set split\n",
    "random.seed(42)"
   ]
  },
  {
   "cell_type": "code",
   "execution_count": 150,
   "metadata": {},
   "outputs": [],
   "source": [
    "### The aim will be to train a model that identifies LEDs versus other item classes located in the \"others\" folder."
   ]
  },
  {
   "cell_type": "code",
   "execution_count": 151,
   "metadata": {},
   "outputs": [
    {
     "name": "stdout",
     "output_type": "stream",
     "text": [
      "Added 50 images from background\n",
      "Added 50 images from diode\n",
      "Added 50 images from led\n",
      "['background', 'diode', 'led']\n",
      "Number of samples: 150\n"
     ]
    }
   ],
   "source": [
    "### Load images as Numpy arrays\n",
    "\n",
    "# Here we will change label to \"other\" if not \"background\" folder  or \"led\" folder\n",
    "# We want to record the labels and assign a ground truth label as a number to each sample\n",
    "\n",
    "labels = []\n",
    "y_all = []    # Lowercase 'y' - 1D vector of the ground truth labels (n)\n",
    "X_all = []    # Uppercase 'X' - 3D array of all image samples (n x width x height)\n",
    "\n",
    "# Find the directories in the dataset folder (skip the Jupyter Notebook checkpoints hidden folder)\n",
    "for label in os.listdir(DATASET_PATH):\n",
    "  class_dir = os.path.join(DATASET_PATH, label)\n",
    "  if os.path.isdir(class_dir) and label != \".ipynb_checkpoints\":\n",
    "    \n",
    "    if (label != \"background\") and (label != \"led\"):\n",
    "       label = \"diode\"\n",
    "    \n",
    "    # Add the name of the folder to our labels list. Also, only append label to list of labels if not already there.\n",
    "    if label not in labels:\n",
    "       labels.append(label)\n",
    "\n",
    "    # Go through each image in the folder\n",
    "    for i, file in enumerate(os.listdir(class_dir)):\n",
    "\n",
    "      # Skip the Jupyter Notebook checkpoints folder that sometimes gets added\n",
    "      if file != \".ipynb_checkpoints\":\n",
    "\n",
    "        # Open image and convert to grayscale\n",
    "        file_path = os.path.join(class_dir, file)\n",
    "        img = PIL.Image.open(file_path).convert('L')\n",
    "\n",
    "        # Convert the image to a Numpy array, optionally invern, and append to X\n",
    "        img_array = np.asarray(img)\n",
    "        if INVERT:\n",
    "          img_array = 255 - img_array\n",
    "        X_all.append(img_array)\n",
    "\n",
    "        # Add label to the y array\n",
    "        y_all.append(label)\n",
    "\n",
    "    # Show how many images we loaded\n",
    "    print(\"Added\", str(i + 1), \"images from\", label)\n",
    "\n",
    "# Calculate total number of samples\n",
    "num_samples = len(X_all)\n",
    "\n",
    "# Sort the labels list by alphabetical order\n",
    "labels = sorted(labels)\n",
    "\n",
    "# Print out labels and number of samples\n",
    "print(labels)\n",
    "print(\"Number of samples:\", num_samples)\n"
   ]
  },
  {
   "cell_type": "code",
   "execution_count": 152,
   "metadata": {},
   "outputs": [
    {
     "name": "stdout",
     "output_type": "stream",
     "text": [
      "Number of test samples: 30\n",
      "Number of training samples: 120\n"
     ]
    }
   ],
   "source": [
    "### Shuffle samples and labels together, divide into test and training sets\n",
    "\n",
    "# Shuffle samples and associated labels together\n",
    "X_y = list(zip(X_all, y_all))\n",
    "random.shuffle(X_y)\n",
    "X_all, y_all = zip(*X_y)\n",
    "\n",
    "# Calculate number of validation and test samples to put aside (round down)\n",
    "num_samples_test = int(TEST_RATIO * num_samples)\n",
    "\n",
    "# The first `num_samples_test` samples of the shuffled list becomes the test set\n",
    "X_test = X_all[:num_samples_test]\n",
    "y_test = y_all[:num_samples_test]\n",
    "\n",
    "# The remaining samples become the training set\n",
    "X_train = X_all[num_samples_test:]\n",
    "y_train = y_all[num_samples_test:]\n",
    "\n",
    "# Remember the number of samples in the test set\n",
    "num_samples_train = len(X_train)\n",
    "\n",
    "# Print out the number of test and training samples\n",
    "print(\"Number of test samples:\", num_samples_test)\n",
    "print(\"Number of training samples:\", num_samples_train)"
   ]
  },
  {
   "cell_type": "code",
   "execution_count": 153,
   "metadata": {},
   "outputs": [
    {
     "name": "stdout",
     "output_type": "stream",
     "text": [
      "Label: diode\n",
      "[[141 141 147 ... 147 147 147]\n",
      " [144 144 144 ... 147 147 147]\n",
      " [147 147 144 ... 147 147 147]\n",
      " ...\n",
      " [147 147 147 ... 152 149 149]\n",
      " [147 147 147 ... 149 149 149]\n",
      " [147 147 147 ... 152 152 149]]\n"
     ]
    },
    {
     "data": {
      "text/plain": [
       "<matplotlib.image.AxesImage at 0x1e4caa5fd00>"
      ]
     },
     "execution_count": 153,
     "metadata": {},
     "output_type": "execute_result"
    },
    {
     "data": {
      "image/png": "[encoded data removed]",
      "text/plain": [
       "<Figure size 432x288 with 1 Axes>"
      ]
     },
     "metadata": {
      "needs_background": "light"
     },
     "output_type": "display_data"
    }
   ],
   "source": [
    "### View one of the training samples\n",
    "\n",
    "# Chose which sample you want to view\n",
    "idx = 0\n",
    "\n",
    "# Print out label (numbe and string) and part of the array\n",
    "print(\"Label: \" + y_train[idx])\n",
    "print(X_train[idx])\n",
    "\n",
    "# Display image from array\n",
    "plt.imshow(X_train[idx], cmap='gray', vmin=0, vmax=255)"
   ]
  },
  {
   "cell_type": "code",
   "execution_count": 154,
   "metadata": {},
   "outputs": [],
   "source": [
    "### Function to resize list of images\n",
    "def resize_images(images, width, height, anti_aliasing=True):\n",
    "  \"\"\"\n",
    "  Prove a list of Numpy arrays (in images parameter) to have them all resized to desired height and\n",
    "  width. Returns the list of newly resized image arrays.\n",
    "\n",
    "  NOTE: skimage resize returns *normalized* image arrays (values between 0..1)\n",
    "  \"\"\"\n",
    "  X_out = []\n",
    "  for i, img in enumerate(images):\n",
    "    X_out.append(resize(img, (height, width), anti_aliasing=anti_aliasing))\n",
    "  return X_out"
   ]
  },
  {
   "cell_type": "code",
   "execution_count": 155,
   "metadata": {},
   "outputs": [],
   "source": [
    "### Scale/crop images (Note: also normalizes data to 0..1)\n",
    "\n",
    "# Resize (scale) all images in the training set\n",
    "X_train = resize_images(X_train, TARGET_WIDTH, TARGET_HEIGHT)\n",
    "\n",
    "# Resize (scale) all images in the test set\n",
    "X_test = resize_images(X_test, TARGET_WIDTH, TARGET_HEIGHT)"
   ]
  },
  {
   "cell_type": "code",
   "execution_count": 156,
   "metadata": {},
   "outputs": [
    {
     "name": "stdout",
     "output_type": "stream",
     "text": [
      "Label: diode\n",
      "First row: [[0.56162465 0.56470588 0.56498599 0.56862745 0.56940776 0.56946779\n",
      "  0.56946779 0.57254902 0.57254902 0.57254902 0.57254902 0.57647059\n",
      "  0.57647059 0.57647059 0.57563025 0.57647059 0.57647059 0.57647059\n",
      "  0.57647059 0.57537015 0.57338936 0.57254902 0.57254902 0.57254902\n",
      "  0.57254902 0.57254902 0.56862745 0.56862745]]\n"
     ]
    },
    {
     "data": {
      "text/plain": [
       "<matplotlib.image.AxesImage at 0x1e4caab88b0>"
      ]
     },
     "execution_count": 156,
     "metadata": {},
     "output_type": "execute_result"
    },
    {
     "data": {
      "image/png": "[encoded data removed]",
      "text/plain": [
       "<Figure size 432x288 with 1 Axes>"
      ]
     },
     "metadata": {
      "needs_background": "light"
     },
     "output_type": "display_data"
    }
   ],
   "source": [
    "### View training sample again (after they all have been scaled)\n",
    "\n",
    "# Chose which sample you want to view\n",
    "idx = 0\n",
    "\n",
    "# Print out label (number and string) and part of the array\n",
    "print(\"Label: \" + y_train[idx])\n",
    "print(\"First row:\", X_train[idx][:1,:])\n",
    "\n",
    "# Display image from array (note that images have been normalized)\n",
    "plt.imshow(X_train[idx], cmap='gray', vmin=0, vmax=1)"
   ]
  },
  {
   "cell_type": "code",
   "execution_count": 157,
   "metadata": {},
   "outputs": [
    {
     "name": "stdout",
     "output_type": "stream",
     "text": [
      "Training X: (120, 28, 28)\n",
      "Test X: (30, 28, 28)\n"
     ]
    }
   ],
   "source": [
    "### Convert list of samples into Numpy arrays\n",
    "\n",
    "# Convert sets\n",
    "X_train = np.asarray(X_train)\n",
    "X_test = np.asarray(X_test)\n",
    "\n",
    "# Print out the new Numpy array shapes\n",
    "print(\"Training X:\", X_train.shape)\n",
    "print(\"Test X:\", X_test.shape)"
   ]
  },
  {
   "cell_type": "code",
   "execution_count": 158,
   "metadata": {},
   "outputs": [
    {
     "name": "stdout",
     "output_type": "stream",
     "text": [
      "Training X: (120, 784)\n",
      "Test X: (30, 784)\n"
     ]
    }
   ],
   "source": [
    "### Flatten each image to a 1D vector (DNN requires 1D input)\n",
    "\n",
    "# Compute length of 1D array that we will flatten each image to\n",
    "len_vector = TARGET_WIDTH * TARGET_WIDTH\n",
    "\n",
    "# Flatten matricies to vectors\n",
    "X_train = X_train.reshape(num_samples_train, len_vector)\n",
    "X_test = X_test.reshape(num_samples_test, len_vector)\n",
    "\n",
    "# Print out the new Numpy array shapes\n",
    "print(\"Training X:\", X_train.shape)\n",
    "print(\"Test X:\", X_test.shape)"
   ]
  },
  {
   "cell_type": "code",
   "execution_count": 159,
   "metadata": {},
   "outputs": [
    {
     "data": {
      "text/plain": [
       "'Helper Functions\\nThe following functions are used to assist in task of uploading samples to your Edge Impulse project'"
      ]
     },
     "execution_count": 159,
     "metadata": {},
     "output_type": "execute_result"
    }
   ],
   "source": [
    "'''Helper Functions\n",
    "The following functions are used to assist in task of uploading samples to your Edge Impulse project'''"
   ]
  },
  {
   "cell_type": "code",
   "execution_count": 160,
   "metadata": {},
   "outputs": [],
   "source": [
    "def create_json_wrapper():\n",
    "  \"\"\"\n",
    "  Construct initial JSON wrapper as a template\n",
    "  \"\"\"\n",
    "\n",
    "  # Start with all zeros. Hs256 gives 32 bytes and we encode in hex. So, we need 64 characters here.\n",
    "  empty_signature = ''.join(['0'] * 64)\n",
    "\n",
    "  # Create JSON wrapper for data\n",
    "  data = {\n",
    "      \"protected\": {\n",
    "          \"ver\": \"v1\",\n",
    "          \"alg\": \"HS256\",\n",
    "          \"iat\": time.time()                  # Epoch time, seconds since 1970\n",
    "      },\n",
    "      \"signature\": empty_signature,\n",
    "      \"payload\": {\n",
    "          \"device_type\": \"pre-made\",          # Pre-made dataset (not collected)\n",
    "          \"interval_ms\": 1,                   # Pretend it's interval of 1 ms\n",
    "          \"sensors\": [\n",
    "              { \"name\": \"img\", \"units\": \"B\" } # Unitless (\"Byte\" data)\n",
    "          ],\n",
    "          \"values\": []\n",
    "      }\n",
    "  }\n",
    "\n",
    "  return data"
   ]
  },
  {
   "cell_type": "code",
   "execution_count": 161,
   "metadata": {},
   "outputs": [],
   "source": [
    "def send_sample(data, label, test_set=False):\n",
    "  \"\"\"\n",
    "  Send raw data sample to Edge Impulse project, return HTTP status code\n",
    "  \"\"\"\n",
    "\n",
    "  # Encode message in JSON format\n",
    "  encoded = json.dumps(data)\n",
    "\n",
    "  # Sign message\n",
    "  signature = hmac.new(bytes(EI_HMAC_KEY, 'utf-8'), \n",
    "                      msg = encoded.encode('utf-8'), \n",
    "                      digestmod = hashlib.sha256).hexdigest()\n",
    "\n",
    "  # Set the signature in the message and encode data again to JSON format\n",
    "  data['signature'] = signature\n",
    "  encoded = json.dumps(data)\n",
    "\n",
    "  # Construct URL based on dataset being sent\n",
    "  if test_set:\n",
    "    url = 'https://ingestion.edgeimpulse.com/api/testing/data'\n",
    "  else:\n",
    "    url = 'https://ingestion.edgeimpulse.com/api/training/data'\n",
    "\n",
    "  # Upload the data to project\n",
    "  res = requests.post(url=url,\n",
    "                      data=encoded,\n",
    "                      headers={\n",
    "                          'Content-Type': 'application/json',\n",
    "                          'x-file-name': str(label),\n",
    "                          'x-api-key': EI_API_KEY\n",
    "                      })\n",
    "  \n",
    "  return res"
   ]
  },
  {
   "cell_type": "code",
   "execution_count": 162,
   "metadata": {},
   "outputs": [],
   "source": [
    "def upload_sample(len_vector, is_test_set):\n",
    "  \"\"\"\n",
    "  Pull sample and label from queue and send to Edge Impulse server. To be called within a thread.\n",
    "  \"\"\"\n",
    "\n",
    "  global q\n",
    "\n",
    "  while not q.empty():\n",
    "\n",
    "    # Start with empty JSON wrapper\n",
    "    data = create_json_wrapper()\n",
    "\n",
    "    # Fill up values field (we need to convert to float to avoid JSON error)\n",
    "    sample, label = q.get()\n",
    "    for j in range(len_vector):\n",
    "      data['payload']['values'].append(float(sample[j]))\n",
    "\n",
    "    # Send sample\n",
    "    res = send_sample(data, label, test_set=is_test_set)\n",
    "\n",
    "    # Check response code\n",
    "    if (res.status_code != 200):\n",
    "      print(\"Failed to upload file to Edge Impulse\", res.status_code, res.content)"
   ]
  },
  {
   "cell_type": "code",
   "execution_count": 163,
   "metadata": {},
   "outputs": [],
   "source": [
    "### Use many threads to send test data and labels to Edge Impulse project\n",
    "\n",
    "# Fill queue with test data and labels\n",
    "q = queue.Queue()\n",
    "for i in range(num_samples_test):\n",
    "  q.put((X_test[i], y_test[i]))\n",
    "\n",
    "# Create and start threads\n",
    "threads = []\n",
    "for i in range(NUM_THREADS):\n",
    "  threads.append(threading.Thread(target=upload_sample, args=(len_vector, True)))\n",
    "  threads[i].start()\n",
    "\n",
    "# Wait for threads to be done\n",
    "for thread in threads:\n",
    "  thread.join()"
   ]
  }
 ],
 "metadata": {
  "kernelspec": {
   "display_name": "Python 3",
   "language": "python",
   "name": "python3"
  },
  "language_info": {
   "codemirror_mode": {
    "name": "ipython",
    "version": 3
   },
   "file_extension": ".py",
   "mimetype": "text/x-python",
   "name": "python",
   "nbconvert_exporter": "python",
   "pygments_lexer": "ipython3",
   "version": "3.8.3"
  }
 },
 "nbformat": 4,
 "nbformat_minor": 4
}
