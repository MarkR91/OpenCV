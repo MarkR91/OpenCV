{
 "cells": [
  {
   "cell_type": "code",
   "execution_count": 17,
   "metadata": {},
   "outputs": [],
   "source": [
    "### Import libraries\n",
    "\n",
    "import os\n",
    "import PIL\n",
    "import requests\n",
    "import math\n",
    "\n",
    "import numpy as np\n",
    "import matplotlib.pyplot as plt"
   ]
  },
  {
   "cell_type": "code",
   "execution_count": 18,
   "metadata": {},
   "outputs": [
    {
     "name": "stdout",
     "output_type": "stream",
     "text": [
      "[[ 57  59  58  67  82]\n",
      " [ 63  66  75 100 124]\n",
      " [ 61  69  89 121 150]\n",
      " [ 71  96 126 145 157]]\n"
     ]
    },
    {
     "data": {
      "text/plain": [
       "<matplotlib.image.AxesImage at 0x21765f04dc0>"
      ]
     },
     "execution_count": 18,
     "metadata": {},
     "output_type": "execute_result"
    },
    {
     "data": {
      "image/png": "[encoded data removed]",
      "text/plain": [
       "<Figure size 432x288 with 1 Axes>"
      ]
     },
     "metadata": {
      "needs_background": "light"
     },
     "output_type": "display_data"
    }
   ],
   "source": [
    "img = np.array([[57,59,58,67,82],[63,66,75,100,124],[61,69,89,121,150],[71,96,126,145,157]])\n",
    "#img = np.array([[61,75],[74,120]])\n",
    "print(img)\n",
    "plt.imshow(img, cmap='gray', vmin=0, vmax=255)"
   ]
  },
  {
   "cell_type": "code",
   "execution_count": 19,
   "metadata": {},
   "outputs": [],
   "source": [
    "### Max pooling function\n",
    "\n",
    "def maxpooling(img, pool_height, pool_width,stride):\n",
    "\n",
    "\n",
    "  # Compute dimensions of output image\n",
    "  out_height = math.floor((img.shape[0] - pool_height) / stride) + 1\n",
    "  out_width = math.floor((img.shape[1] - pool_width) / stride) + 1\n",
    "  print(\"out_height=\",out_height)\n",
    "  print(\"out_width=\",out_width)\n",
    "  \n",
    "  # Create blank output image\n",
    "  pooled_img = np.zeros((out_height, out_width))\n",
    "\n",
    "    \n",
    "  for i in np.arange(0, out_height):\n",
    "      for j in np.arange(0, out_width):\n",
    "            \n",
    "            #set initial max value\n",
    "            maxval=img[(stride * i), (stride * j)]\n",
    "            \n",
    "            for m in np.arange(0,out_height,stride): #remove stride parameter from here in github code\n",
    "                for n in np.arange(0,out_width,stride):\n",
    "                    if(img[(stride * i), (stride * j)] > maxval):\n",
    "                        maxval = img[(stride * i) + m, (stride * j) + n] #update max value\n",
    "                    \n",
    "                pooled_img[i,j] = maxval\n",
    "\n",
    "            \n",
    "                    \n",
    "  # Round all elements, convert to integers, and clamp to values between 0 and 255\n",
    "  pooled_img = np.rint(pooled_img).astype(int)\n",
    "  pooled_img = np.clip(pooled_img, 0, 255)\n",
    "\n",
    "  return pooled_img"
   ]
  },
  {
   "cell_type": "code",
   "execution_count": 20,
   "metadata": {},
   "outputs": [
    {
     "name": "stdout",
     "output_type": "stream",
     "text": [
      "out_height= 2\n",
      "out_width= 2\n",
      "[[57 58]\n",
      " [61 89]]\n"
     ]
    },
    {
     "data": {
      "text/plain": [
       "<matplotlib.image.AxesImage at 0x21765f621c0>"
      ]
     },
     "execution_count": 20,
     "metadata": {},
     "output_type": "execute_result"
    },
    {
     "data": {
      "image/png": "[encoded data removed]",
      "text/plain": [
       "<Figure size 432x288 with 1 Axes>"
      ]
     },
     "metadata": {
      "needs_background": "light"
     },
     "output_type": "display_data"
    }
   ],
   "source": [
    "### Test image with pool size of (2, 2)\n",
    "\n",
    "# Call your pooling function (with pool_size=(2, 2))\n",
    "out_img = maxpooling(img, 2, 2, 2)\n",
    "print(out_img)\n",
    "#view array as image\n",
    "plt.imshow(out_img, cmap='gray', vmin=0, vmax=255)"
   ]
  }
 ],
 "metadata": {
  "kernelspec": {
   "display_name": "Python 3 (ipykernel)",
   "language": "python",
   "name": "python3"
  },
  "language_info": {
   "codemirror_mode": {
    "name": "ipython",
    "version": 3
   },
   "file_extension": ".py",
   "mimetype": "text/x-python",
   "name": "python",
   "nbconvert_exporter": "python",
   "pygments_lexer": "ipython3",
   "version": "3.7.13"
  }
 },
 "nbformat": 4,
 "nbformat_minor": 4
}
