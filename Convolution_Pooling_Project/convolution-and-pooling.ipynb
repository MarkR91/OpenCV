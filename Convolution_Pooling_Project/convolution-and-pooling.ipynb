{
 "cells": [
  {
   "cell_type": "code",
   "execution_count": 1,
   "metadata": {},
   "outputs": [],
   "source": [
    "### Import libraries\n",
    "\n",
    "import os\n",
    "import PIL\n",
    "import requests\n",
    "import math\n",
    "\n",
    "import numpy as np\n",
    "import matplotlib.pyplot as plt"
   ]
  },
  {
   "cell_type": "code",
   "execution_count": 2,
   "metadata": {},
   "outputs": [],
   "source": [
    "### Download example image\n",
    "\n",
    "# Image location and path\n",
    "url = \"https://github.com/ShawnHymel/computer-vision-with-embedded-machine-learning/raw/master/2.1.4%20-%20Project%20-%20Convolution%20and%20Pooling/resistor.png\"\n",
    "folderpath = r\"C:\\Users\\mramd\\Desktop\\Coursera\\computer-vision-with-embedded-machine-learning\\Convolution_Pooling_Project\\content\"\n",
    "img_path = os.path.join(folderpath, \"resistor.png\")\n",
    "\n",
    "# Download image\n",
    "resp = requests.get(url)\n",
    "\n",
    "# Write image to file\n",
    "with open(img_path, 'wb') as f:\n",
    "  f.write(resp.content)"
   ]
  },
  {
   "cell_type": "code",
   "execution_count": 3,
   "metadata": {},
   "outputs": [
    {
     "name": "stdout",
     "output_type": "stream",
     "text": [
      "(28, 28)\n",
      "img= [[141 143 147 146 144 147 147 147 147 147 147 147 149 149 149 149 149 149\n",
      "  149 149 149 149 149 149 149 149 148 147]\n",
      " [142 146 147 147 146 147 147 147 147 147 148 149 149 149 149 149 149 150\n",
      "  150 150 149 149 149 149 149 149 149 148]\n",
      " [146 147 147 147 147 147 147 148 149 149 149 149 151 151 151 151 150 151\n",
      "  152 150 151 149 150 149 149 149 149 149]\n",
      " [146 147 147 147 147 147 148 149 149 149 149 150 155 154 154 153 152 154\n",
      "  153 150 150 149 149 149 149 149 149 149]\n",
      " [146 146 147 147 147 149 149 149 149 151 151 153 155 155 155 154 155 155\n",
      "  155 153 153 149 149 149 149 150 150 149]\n",
      " [147 147 147 149 149 149 149 151 154 155 155 155 155 155 155 155 155 155\n",
      "  155 155 154 150 149 149 150 151 150 150]\n",
      " [147 147 148 149 149 149 149 153 155 154 154 155 155 155 155 155 155 155\n",
      "  155 155 154 152 152 149 151 153 153 150]\n",
      " [147 147 147 149 149 149 149 154 155 154 155 155 155 155 155 155 155 157\n",
      "  157 155 155 154 155 154 153 155 155 150]\n",
      " [147 147 149 149 151 151 152 154 155 155 155 155 155 155 155 155 156 157\n",
      "  157 157 156 156 156 156 155 155 155 154]\n",
      " [149 149 149 149 151 155 155 155 155 155 155 155 155 155 155 156 157 157\n",
      "  157 157 157 157 156 155 155 155 155 155]\n",
      " [149 149 149 149 151 154 155 155 155 154 155 155 155 156 157 157 157 157\n",
      "  157 155 155 155 155 155 155 155 154 154]\n",
      " [149 149 149 149 149 150 152 154 154 153 158 160 158 159 162 163 160 151\n",
      "  129 119 130 146 156 155 155 155 155 153]\n",
      " [148 148 149 149 149 150 124  77  44  85  88 102 121 120 101 100  98  86\n",
      "   68  56  84  99 153 156 157 157 155 154]\n",
      " [149 149 149 149 149 147  84  56  34  91  59  35  71  84  45  75  89  86\n",
      "  107 146 144  96 134 156 156 155 154 153]\n",
      " [148 149 147 146 144 125  76  54  48 101 107  98  94  92  50  76  85  81\n",
      "   89 105 116  93  82 107 108 145 154 158]\n",
      " [ 76  77  81  90  87  68  68  47  24  74  43  13  51  73  37  59  74  71\n",
      "   62  40  69  81  94 139 142 139 137 135]\n",
      " [101  99  96  92  86  63  58  38  21  65  45  19  45  66  38  52  65  62\n",
      "   56  40  63  77  94 105 106 106 106 105]\n",
      " [130 132 132 133 129  95  56  40  27  56  45  26  34  46  36  38  46  47\n",
      "   54  48  58  91 149 158 157 155 155 154]\n",
      " [149 149 150 150 151 134  73  37  33  43  66  82  92  96  97 100  92  74\n",
      "   59  64  86 130 160 163 162 157 157 157]\n",
      " [149 149 150 150 150 150 142 128 126 134 149 153 156 156 156 156 156 151\n",
      "  148 150 153 156 158 161 159 157 157 157]\n",
      " [149 149 149 149 149 153 155 156 157 157 157 156 157 158 158 158 159 159\n",
      "  158 159 159 157 157 157 157 157 155 156]\n",
      " [148 149 149 149 151 155 155 155 157 157 156 156 157 157 156 157 160 159\n",
      "  158 157 157 157 157 157 157 157 157 156]\n",
      " [147 148 149 149 150 154 155 155 155 155 155 155 156 156 155 157 157 157\n",
      "  157 158 158 157 157 157 157 157 155 155]\n",
      " [147 147 149 149 149 149 152 155 155 155 155 155 155 155 155 156 157 155\n",
      "  157 157 157 157 157 157 156 156 155 155]\n",
      " [147 147 147 149 149 148 149 151 154 155 155 155 155 155 155 155 155 155\n",
      "  157 157 157 156 157 157 155 155 155 155]\n",
      " [147 147 147 147 147 147 148 149 150 151 154 155 155 154 155 155 155 155\n",
      "  155 156 157 155 155 155 155 155 155 155]\n",
      " [143 146 147 147 147 147 147 149 147 148 151 154 155 155 155 155 155 155\n",
      "  153 155 155 156 155 155 155 155 155 155]\n",
      " [141 142 143 147 147 147 147 149 147 148 149 151 153 154 155 155 155 155\n",
      "  155 155 155 155 155 153 154 155 155 155]]\n"
     ]
    },
    {
     "data": {
      "image/png": "[encoded data removed]",
      "text/plain": [
       "<Figure size 432x288 with 1 Axes>"
      ]
     },
     "metadata": {
      "needs_background": "light"
     },
     "output_type": "display_data"
    }
   ],
   "source": [
    "### Open and view image\n",
    "\n",
    "# Use PIL to open the image and convert it to grayscale\n",
    "img = PIL.Image.open(img_path)\n",
    "img = img.convert('L')\n",
    "\n",
    "# Convert image to Numpy array\n",
    "img = np.asarray(img)\n",
    "\n",
    "# Show dimensions and view array as image\n",
    "print(img.shape)\n",
    "plt.imshow(img, cmap='gray', vmin=0, vmax=255)\n",
    "print(\"img=\",img)"
   ]
  },
  {
   "cell_type": "code",
   "execution_count": 4,
   "metadata": {},
   "outputs": [],
   "source": [
    "### Convolution function\n",
    "\n",
    "def convolve(img, kernel, stride):\n",
    "    \n",
    "  print(\"kernel=\",kernel)\n",
    "  print(\"stride of \",stride)\n",
    " \n",
    "\n",
    "  # Compute dimensions of output image\n",
    "  out_height = math.floor((img.shape[0] - kernel.shape[0]) / stride) + 1\n",
    "  out_width = math.floor((img.shape[1] - kernel.shape[1]) / stride) + 1\n",
    "\n",
    "  print(\"out image height=\",out_height)\n",
    "  print(\"out image width=\",out_width) \n",
    "  \n",
    "  # Create blank output image\n",
    "  convolved_img = np.zeros((out_height, out_width))\n",
    "\n",
    "  # >>> NEW CODE HERE <<<\n",
    "   \n",
    "  for i in np.arange(0,out_height):\n",
    "     for j in np.arange(0,out_width):\n",
    "     \n",
    "        elementwise_productsum=0\n",
    "     \n",
    "        for m in np.arange(0,kernel.shape[0]):\n",
    "          for n in np.arange(0,kernel.shape[1]):\n",
    "            elementwise_productsum += img[(stride*i)+m,(stride*j)+n] * kernel[m,n] \n",
    "        # Populate output image matrix with productsum values    \n",
    "        convolved_img[i,j] = elementwise_productsum \n",
    "  \n",
    "  print(\"convolved_img=\",convolved_img)\n",
    "        \n",
    "  # Round all elements, convert to integers, and clamp to values between 0 and 255\n",
    "  convolved_img = np.rint(convolved_img).astype(int)\n",
    "  convolved_img = np.clip(convolved_img, 0, 255)\n",
    "\n",
    "  return convolved_img"
   ]
  },
  {
   "cell_type": "code",
   "execution_count": 5,
   "metadata": {},
   "outputs": [
    {
     "name": "stdout",
     "output_type": "stream",
     "text": [
      "(3, 3)\n",
      "kernel= [[0.0625 0.125  0.0625]\n",
      " [0.125  0.25   0.125 ]\n",
      " [0.0625 0.125  0.0625]]\n",
      "stride of  1\n",
      "out image height= 26\n",
      "out image width= 26\n",
      "convolved_img= [[145.1875 146.5625 146.5625 146.3125 146.6875 147.0625 147.25   147.4375\n",
      "  147.625  148.     148.625  149.25   149.5    149.5    149.4375 149.5\n",
      "  149.875  150.0625 149.8125 149.4375 149.1875 149.125  149.0625 149.\n",
      "  148.9375 148.625 ]\n",
      " [146.375  146.9375 146.9375 146.875  147.     147.375  147.9375 148.375\n",
      "  148.5625 148.8125 149.6875 150.875  151.3125 151.1875 150.875  150.75\n",
      "  151.25   151.25   150.5    149.875  149.4375 149.25   149.125  149.\n",
      "  149.     148.9375]\n",
      " [146.625  146.9375 147.     147.125  147.5    148.0625 148.625  149.0625\n",
      "  149.375  149.75   151.125  153.     153.625  153.3125 152.8125 152.6875\n",
      "  153.125  152.6875 151.4375 150.4375 149.5625 149.125  149.0625 149.0625\n",
      "  149.1875 149.1875]\n",
      " [146.5625 147.     147.375  147.75   148.3125 148.875  149.5    150.375\n",
      "  151.1875 151.8125 153.     154.375  154.8125 154.5625 154.25   154.3125\n",
      "  154.5625 154.125  153.125  151.75   150.     149.0625 149.0625 149.375\n",
      "  149.75   149.6875]\n",
      " [146.875  147.4375 148.1875 148.625  148.875  149.5    151.     152.6875\n",
      "  153.5625 153.9375 154.4375 154.875  155.     154.9375 154.875  154.9375\n",
      "  155.     154.875  154.4375 153.0625 151.     149.6875 149.4375 150.0625\n",
      "  150.8125 150.625 ]\n",
      " [147.125  147.75   148.625  149.     149.     149.9375 152.3125 154.125\n",
      "  154.4375 154.5625 154.875  155.     155.     155.     155.     155.125\n",
      "  155.375  155.375  154.9375 153.875  152.5625 151.5625 150.9375 151.4375\n",
      "  152.5    152.125 ]\n",
      " [147.1875 147.875  148.8125 149.375  149.5625 150.6875 153.0625 154.5\n",
      "  154.5625 154.6875 154.9375 155.     155.     155.     155.0625 155.5\n",
      "  156.1875 156.25   155.625  154.875  154.375  154.0625 153.5    153.4375\n",
      "  154.125  153.625 ]\n",
      " [147.75   148.375  149.25   150.375  151.375  152.4375 153.875  154.75\n",
      "  154.875  154.9375 155.     155.     155.     155.0625 155.375  156.0625\n",
      "  156.75   156.875  156.5    156.0625 155.8125 155.625  155.1875 154.8125\n",
      "  154.875  154.5625]\n",
      " [148.625  148.875  149.5    151.1875 153.1875 154.25   154.6875 154.875\n",
      "  154.875  154.9375 155.     155.0625 155.25   155.5625 156.0625 156.625\n",
      "  156.9375 156.875  156.5625 156.3125 156.125  155.75   155.3125 155.0625\n",
      "  154.9375 154.75  ]\n",
      " [149.     149.     149.375  150.8125 152.8125 154.125  154.625  154.5625\n",
      "  154.625  155.4375 156.     156.0625 156.625  157.5625 158.     157.3125\n",
      "  154.6875 150.5    148.0625 149.5625 152.8125 154.8125 155.125  155.\n",
      "  154.875  154.5   ]\n",
      " [148.8125 148.9375 149.125  149.75   149.3125 144.375  135.625  131.1875\n",
      "  134.75   140.     144.0625 147.1875 147.625  146.3125 145.1875 142.375\n",
      "  134.25   122.5    117.5    124.5625 138.1875 150.4375 155.25   155.4375\n",
      "  155.3125 154.625 ]\n",
      " [148.625  148.875  149.     149.0625 142.125  120.5625  93.      83.125\n",
      "   93.5625  99.9375 103.875  114.     115.375  108.6875 108.125  108.5625\n",
      "  102.1875  95.625   98.     106.3125 119.875  140.9375 154.1875 156.0625\n",
      "  155.75   154.75  ]\n",
      " [148.625  148.5    148.1875 146.5    131.0625  96.75    63.375   58.1875\n",
      "   75.5625  79.      75.625   85.25    84.875   74.25    78.375   86.6875\n",
      "   88.125   95.875  110.3125 113.3125 109.9375 122.8125 139.375  146.3125\n",
      "  151.125  154.    ]\n",
      " [130.8125 131.4375 131.875  127.75   109.875   80.25    55.      55.375\n",
      "   75.25    77.6875  69.625   75.3125  73.375   61.9375  67.9375  79.4375\n",
      "   82.375   88.0625  99.     103.0625  97.6875 103.5    120.25   132.5625\n",
      "  142.5625 149.125 ]\n",
      " [100.625  101.875  102.8125  96.875   82.625   65.625   47.4375  45.875\n",
      "   61.4375  58.3125  47.8125  58.0625  63.1875  54.625   59.5     70.4375\n",
      "   71.0625  65.5     64.75    74.4375  84.0625  96.875  115.125  125.9375\n",
      "  130.625  133.125 ]\n",
      " [101.6875 101.5    100.4375  92.      75.375   58.25    41.1875  38.0625\n",
      "   49.4375  43.3125  31.6875  42.375   51.625   46.875   50.0625  58.9375\n",
      "   60.125   54.125   51.0625  62.5     83.5    105.9375 122.25   127.1875\n",
      "  126.6875 125.8125]\n",
      " [127.75   127.5    126.3125 117.8125  94.5     64.25    41.3125  36.9375\n",
      "   46.8125  48.4375  44.5     51.0625  57.5     56.      57.      59.75\n",
      "   58.25    54.75    55.5     69.9375  99.6875 129.8125 143.875  145.0625\n",
      "  143.8125 143.0625]\n",
      " [144.8125 145.375  145.5625 141.125  121.9375  90.1875  65.4375  59.75\n",
      "   68.5625  79.4375  86.625   92.8125  96.75    97.5     97.5     94.5\n",
      "   87.375   82.      84.6875  99.9375 126.5    150.375  159.8125 159.4375\n",
      "  157.375  156.4375]\n",
      " [149.1875 149.5625 149.8125 149.125  142.875  128.75   115.75   112.5625\n",
      "  118.6875 128.375  135.625  139.5    141.25   141.875  141.875  139.4375\n",
      "  134.125  130.25   131.875  139.     148.875  156.6875 159.625  159.\n",
      "  157.4375 156.6875]\n",
      " [149.     149.1875 149.375  150.375  151.75   151.25   149.625  149.625\n",
      "  151.625  154.     155.5    156.5    157.0625 157.125  157.5    157.8125\n",
      "  157.     156.0625 156.25   156.75   156.9375 157.3125 157.6875 157.5\n",
      "  156.875  156.3125]\n",
      " [148.625  148.9375 149.3125 150.9375 153.4375 154.875  155.5    156.1875\n",
      "  156.375  156.0625 156.0625 156.5625 156.75   156.6875 157.4375 158.4375\n",
      "  158.4375 157.9375 157.75   157.5625 157.1875 157.     157.     157.\n",
      "  156.75   156.1875]\n",
      " [148.0625 148.75   149.25   150.5    152.5625 154.125  154.9375 155.375\n",
      "  155.4375 155.3125 155.4375 155.8125 155.8125 155.8125 156.625  157.3125\n",
      "  157.25   157.25   157.4375 157.375  157.125  157.     156.9375 156.8125\n",
      "  156.4375 155.75  ]\n",
      " [147.5    148.3125 148.9375 149.375  150.3125 152.     153.6875 154.625\n",
      "  154.9375 155.     155.0625 155.1875 155.1875 155.3125 155.875  156.125\n",
      "  156.125  156.6875 157.1875 157.125  156.9375 156.9375 156.75   156.25\n",
      "  155.75   155.25  ]\n",
      " [147.125  147.625  148.25   148.375  148.5    149.625  151.4375 153.\n",
      "  154.     154.625  154.9375 154.9375 154.875  155.     155.25   155.3125\n",
      "  155.5    156.1875 156.75   156.6875 156.375  156.375  156.1875 155.5625\n",
      "  155.1875 155.0625]\n",
      " [146.625  147.0625 147.375  147.4375 147.5    148.1875 149.3125 150.3125\n",
      "  151.5625 153.25   154.5    154.8125 154.75   154.875  155.     155.\n",
      "  155.     155.25   155.875  156.125  155.75   155.5    155.375  155.125\n",
      "  155.     155.    ]\n",
      " [145.     146.0625 146.75   147.     147.0625 147.625  148.25   148.3125\n",
      "  149.125  151.1875 153.1875 154.25   154.625  154.875  155.     155.\n",
      "  154.75   154.5625 155.     155.4375 155.375  155.     154.6875 154.75\n",
      "  154.9375 155.    ]]\n",
      "(26, 26)\n"
     ]
    },
    {
     "data": {
      "text/plain": [
       "<matplotlib.image.AxesImage at 0x1335c37ec10>"
      ]
     },
     "execution_count": 5,
     "metadata": {},
     "output_type": "execute_result"
    },
    {
     "data": {
      "image/png": "[encoded data removed]",
      "text/plain": [
       "<Figure size 432x288 with 1 Axes>"
      ]
     },
     "metadata": {
      "needs_background": "light"
     },
     "output_type": "display_data"
    }
   ],
   "source": [
    "### Test 1: Gaussian blur filter\n",
    "\n",
    "# Define kernel (A smaller 3x3 matrix to do element wise operations on the larger image matrix)\n",
    "kernel = np.array([[1/16, 2/16, 1/16],\n",
    "                   [2/16, 4/16, 2/16],\n",
    "                   [1/16, 2/16, 1/16]])\n",
    "\n",
    "print(kernel.shape)\n",
    "\n",
    "# Call the convolve function where kernel matrix is shifted by a stride of 1)\n",
    "convolved_out_img = convolve(img, kernel, 1)\n",
    "\n",
    "print(convolved_out_img.shape)\n",
    "plt.imshow(convolved_out_img, cmap='gray', vmin=0, vmax=255)"
   ]
  },
  {
   "cell_type": "code",
   "execution_count": 6,
   "metadata": {},
   "outputs": [
    {
     "name": "stdout",
     "output_type": "stream",
     "text": [
      "kernel= [[-1 -1 -1]\n",
      " [-1  8 -1]\n",
      " [-1 -1 -1]]\n",
      "stride of  1\n",
      "out image height= 26\n",
      "out image width= 26\n",
      "convolved_img= [[   8.    6.    5.   -4.    4.   -1.   -3.   -5.   -7.    0.    3.   -2.\n",
      "    -6.   -6.   -5.   -6.    1.    0.    1.   -4.   -3.   -1.   -1.    0.\n",
      "     1.    4.]\n",
      " [   8.    1.    1.    1.    0.   -4.    1.    7.    5.    2.   -8.    2.\n",
      "    -4.   -2.    1.   -9.   -2.    8.   -5.   12.   -4.    8.   -1.    0.\n",
      "     0.    1.]\n",
      " [   4.    1.    0.   -2.   -5.   -1.    4.   -1.   -4.   -9.  -12.   22.\n",
      "     5.    8.    2.   -7.    9.    4.  -17.   -4.   -8.   -1.   -1.   -1.\n",
      "    -2.   -2.]\n",
      " [  -6.   -1.   -4.   -8.    7.    1.   -6.  -15.   -3.   -9.   -1.    8.\n",
      "     2.    5.   -2.    7.    6.   10.   -1.   14.  -11.   -1.   -1.   -4.\n",
      "     3.    3.]\n",
      " [   1.   -4.    9.    4.    2.   -6.    1.   15.   17.   12.    7.    2.\n",
      "     0.    1.    1.    1.    0.    2.    6.   11.  -12.   -7.   -6.   -1.\n",
      "     2.   -6.]\n",
      " [  -1.    2.    5.    0.    0.  -11.    8.   10.   -5.   -6.    1.    0.\n",
      "     0.    0.    0.   -2.   -4.   -4.    0.    2.   -7.    4.  -21.   -6.\n",
      "     6.   10.]\n",
      " [  -3.   -9.    1.   -4.   -7.  -19.   10.    6.   -6.    3.    1.    0.\n",
      "     0.    0.   -1.   -5.    9.    8.   -6.    1.   -4.   11.    5.   -4.\n",
      "    10.   15.]\n",
      " [  -8.    6.   -2.    6.   -3.   -6.    2.    3.    1.    1.    0.    0.\n",
      "     0.   -1.   -4.   -1.    3.    2.    5.    0.    2.    5.    9.    2.\n",
      "     2.    6.]\n",
      " [   4.    2.   -6.   -1.   20.    9.    4.    2.    1.    1.    0.   -1.\n",
      "    -3.   -6.   -1.    4.    1.    2.    5.    8.   10.    3.   -3.   -1.\n",
      "     1.    3.]\n",
      " [   0.    0.   -4.    2.   14.   10.    5.    5.   -8.   -5.  -11.  -13.\n",
      "    -8.   -7.  -11.   -2.   31.   74.   79.   64.   28.    5.   -2.    0.\n",
      "     1.   -5.]\n",
      " [   2.    1.   -2.   -9.   16.   97.  216.  255.  231.  212.  188.  136.\n",
      "   142.  183.  212.  211.  196.   83.   18.   71.   81.   74.   -2.   -5.\n",
      "    -3.    3.]\n",
      " [  -7.    1.    0.    0.   96.   22. -186. -452. -101. -139.  -34.   79.\n",
      "    59. -100.  -93. -126. -200. -336. -479. -264. -251.  126.   26.   11.\n",
      "    14.    4.]\n",
      " [   5.    6.   10.   33.  175. -137.  -93. -284.  162. -235. -460. -178.\n",
      "   -22. -338.  -44.   25.  -15.  139.  399.  357. -137.  130.  195.  107.\n",
      "    54.    1.]\n",
      " [ 216.  186.  172.  191.  177.  -41.   -5.  -97.  328.  342.  311.  235.\n",
      "   231. -141.   94.   69.  -15.   14.   67.  154.  -72. -244. -155. -275.\n",
      "    15.   56.]\n",
      " [-281. -248. -159. -118. -163.   15.  -11. -256.  138. -178. -398.  -92.\n",
      "   111. -210.   -5.   41.   -6.  -48. -280.  -63.  -40.  -26.  274.  181.\n",
      "   108.   48.]\n",
      " [ -33.  -68.  -98.  -69. -143.  -11.  -37. -203.  185.   19. -150.   32.\n",
      "   168. -103.   23.   71.   21.   24. -130.    0.  -83. -142. -199. -253.\n",
      "  -249. -238.]\n",
      " [  50.   55.   78.  128.   10.  -90.  -23. -117.  103.  -42. -220. -200.\n",
      "  -136. -245. -222. -162. -132.  -18.  -96. -135.  -89.  214.  168.  144.\n",
      "   134.  143.]\n",
      " [  51.   55.   55.  117.  126. -198. -329. -327. -292. -160.  -65.  -13.\n",
      "    -5.   -8.   23.  -32. -161. -264. -244. -162.   29.  114.   40.   29.\n",
      "    -3.    7.]\n",
      " [  -2.    5.    2.   14.   93.  150.  145.  163.  184.  244.  209.  198.\n",
      "   178.  169.  172.  199.  203.  210.  214.  163.   88.   23.   15.    1.\n",
      "    -5.    3.]\n",
      " [   0.   -2.   -5.  -15.   17.   46.   73.   86.   63.   38.    7.    7.\n",
      "    11.   10.    6.   16.   23.   23.   32.   26.    2.   -4.   -7.   -6.\n",
      "     0.  -14.]\n",
      " [   4.    1.   -3.    0.   18.    2.   -5.    9.    7.    0.   -1.    5.\n",
      "     3.   -8.   -4.   17.    7.    0.   -8.   -6.   -3.    0.    0.    0.\n",
      "     4.    8.]\n",
      " [  -1.    3.   -3.   -5.   16.   10.    1.   -4.   -5.   -4.   -5.    2.\n",
      "     2.   -9.    3.   -2.   -4.   -2.    6.    7.   -1.    0.    1.    2.\n",
      "     6.   -8.]\n",
      " [  -5.    7.    1.   -5.  -14.    0.   14.    5.    1.    0.   -1.   -2.\n",
      "    -2.   -4.    2.    9.  -12.    3.   -2.   -1.    0.    1.    3.   -3.\n",
      "     3.   -3.]\n",
      " [  -2.   -6.    8.    7.   -6.   -7.   -4.   11.   11.    5.    1.    1.\n",
      "     1.    0.   -3.   -3.   -6.    9.    3.    4.   -4.    7.    9.   -6.\n",
      "    -2.   -1.]\n",
      " [   5.   -1.   -4.   -5.   -6.   -3.   -3.   -4.   -6.    8.    6.    2.\n",
      "    -8.    1.    0.    0.    0.   -3.    2.    9.   -8.   -6.   -4.   -2.\n",
      "     0.    0.]\n",
      " [  11.   10.    4.    0.   -1.   -7.    8.  -15.  -13.   -2.    9.    9.\n",
      "     4.    2.    0.    0.    2.  -17.   -1.   -4.    6.    1.    3.    3.\n",
      "     1.    0.]]\n",
      "(26, 26)\n"
     ]
    },
    {
     "data": {
      "text/plain": [
       "<matplotlib.image.AxesImage at 0x1335c3d9910>"
      ]
     },
     "execution_count": 6,
     "metadata": {},
     "output_type": "execute_result"
    },
    {
     "data": {
      "image/png": "[encoded data removed]",
      "text/plain": [
       "<Figure size 432x288 with 1 Axes>"
      ]
     },
     "metadata": {
      "needs_background": "light"
     },
     "output_type": "display_data"
    }
   ],
   "source": [
    "### Test 2: Edge detection\n",
    "\n",
    "# Define kernel\n",
    "kernel = np.array([[-1, -1, -1],\n",
    "                   [-1, 8, -1],\n",
    "                   [-1, -1, -1]])\n",
    "\n",
    "# Call your convolve function (with a stride of 1)\n",
    "out_img = convolve(img, kernel, 1)\n",
    "\n",
    "# Show dimensions and view array as image\n",
    "print(out_img.shape)\n",
    "plt.imshow(out_img, cmap='gray', vmin=0, vmax=255)"
   ]
  },
  {
   "cell_type": "code",
   "execution_count": 7,
   "metadata": {},
   "outputs": [
    {
     "name": "stdout",
     "output_type": "stream",
     "text": [
      "kernel= [[ 0 -1  0]\n",
      " [-1  5 -1]\n",
      " [ 0 -1  0]]\n",
      "stride of  2\n",
      "out image height= 13\n",
      "out image width= 13\n",
      "convolved_img= [[ 151.  149.  148.  146.  144.  152.  147.  147.  151.  152.  149.  149.\n",
      "   149.]\n",
      " [ 149.  147.  144.  151.  147.  144.  155.  154.  159.  144.  148.  149.\n",
      "   148.]\n",
      " [ 148.  153.  149.  150.  161.  157.  155.  156.  155.  158.  146.  148.\n",
      "   152.]\n",
      " [ 147.  151.  147.  159.  151.  155.  155.  155.  161.  151.  152.  157.\n",
      "   159.]\n",
      " [ 151.  147.  164.  156.  156.  155.  154.  156.  157.  159.  161.  153.\n",
      "   155.]\n",
      " [ 150.  149.  145.  232.  214.  227.  199.  236.  223.  125.  190.  153.\n",
      "   153.]\n",
      " [ 150.  152.  227.   31.  176. -155.   92.   65.   67.  318.   10.  227.\n",
      "   163.]\n",
      " [ -20.   44.   -3.   51.  137. -146.  119.   56.   76.  -76.   72.  247.\n",
      "   165.]\n",
      " [ 150.  162.   93.   42.  100.  -50.   -2.  -44.   -1.   24.   41.  216.\n",
      "   200.]\n",
      " [ 148.  151.  171.  179.  195.  222.  214.  210.  218.  226.  182.  168.\n",
      "   155.]\n",
      " [ 151.  147.  162.  152.  160.  156.  158.  154.  161.  153.  157.  157.\n",
      "   157.]\n",
      " [ 144.  149.  142.  162.  155.  155.  154.  156.  149.  156.  158.  158.\n",
      "   157.]\n",
      " [ 148.  145.  145.  147.  148.  157.  150.  155.  155.  156.  151.  153.\n",
      "   155.]]\n",
      "(13, 13)\n"
     ]
    },
    {
     "data": {
      "text/plain": [
       "<matplotlib.image.AxesImage at 0x1335c42f130>"
      ]
     },
     "execution_count": 7,
     "metadata": {},
     "output_type": "execute_result"
    },
    {
     "data": {
      "image/png": "[encoded data removed]",
      "text/plain": [
       "<Figure size 432x288 with 1 Axes>"
      ]
     },
     "metadata": {
      "needs_background": "light"
     },
     "output_type": "display_data"
    }
   ],
   "source": [
    "### Test 3: Sharpen with stride > 1\n",
    "\n",
    "# Define kernel\n",
    "kernel = np.array([[0, -1, 0],\n",
    "                   [-1, 5, -1],\n",
    "                   [0, -1, 0]])\n",
    "\n",
    "# Call your convolve function (with a stride of 2)\n",
    "out_img = convolve(img, kernel, 2)\n",
    "\n",
    "# Show dimensions and view array as image\n",
    "print(out_img.shape)\n",
    "plt.imshow(out_img, cmap='gray', vmin=0, vmax=255)"
   ]
  },
  {
   "cell_type": "code",
   "execution_count": 8,
   "metadata": {},
   "outputs": [],
   "source": [
    "### Max pooling function\n",
    "\n",
    "def maxpool_1(img, pool_height, pool_width, stride):\n",
    "\n",
    "  # Try setting stride amounts according to pool lengths when computing output matrix height and width\n",
    "  # stride_y = pool_height\n",
    "  # stride_x = pool_width\n",
    "\n",
    "  # Compute dimensions of output image\n",
    "  out_height = math.floor((img.shape[0] - pool_height) / stride)+1\n",
    "  out_width = math.floor((img.shape[1] - pool_width) / stride)+1\n",
    "  \n",
    "  # Create a blank output image\n",
    "  pooled_img = np.zeros((out_height, out_width))\n",
    " \n",
    "   \n",
    "  # >>> NEW CODE\n",
    "\n",
    "  for i in np.arange(0, out_height):\n",
    "      for j in np.arange(0, out_width):\n",
    "            \n",
    "            # Get an initial max value\n",
    "            maxval= img[(stride * i), (stride * j)]\n",
    "            \n",
    "            # Iterate through 2D Kernel/Pool matrix with stride\n",
    "            for m in np.arange(0, pool_height):\n",
    "                for n in np.arange(0, pool_width):\n",
    "                    if(img[(stride * i)+m, (stride * j)+n] > maxval):\n",
    "                        maxval = img[(stride * i) + m, (stride * j) + n] # Update max value if current value greater than previous\n",
    "                        \n",
    "                pooled_img[i,j] = maxval\n",
    "                #print(\" my maxval=\",i,j,pooled_img[i,j])\n",
    "                \n",
    "            \n",
    "            \n",
    "  # Round all elements, convert to integers, and clamp to values between 0 and 255\n",
    "  pooled_img = np.rint(pooled_img).astype(int)\n",
    "  pooled_img = np.clip(pooled_img, 0, 255)\n",
    "\n",
    "  return pooled_img"
   ]
  },
  {
   "cell_type": "code",
   "execution_count": 9,
   "metadata": {},
   "outputs": [],
   "source": [
    "### Max pooling function\n",
    "\n",
    "def maxpool_2(img, pool_height, pool_width):\n",
    "\n",
    "  # Set stride amounts\n",
    "  stride_y = pool_height\n",
    "  stride_x = pool_width\n",
    "\n",
    "  # Compute dimensions of output image\n",
    "  out_height = math.floor((img.shape[0] - pool_height) / stride_y) + 1\n",
    "  out_width = math.floor((img.shape[1] - pool_width) / stride_x) + 1\n",
    "  \n",
    "  # Create blank output image\n",
    "  pooled_img = np.zeros((out_height, out_width))\n",
    "\n",
    "  # >>> NEW CODE \n",
    "\n",
    "  # Loop through each pixel in the output array. Note that this is not the most efficient way of\n",
    "  # doing convolution, but it provides some insights into what's going on.\n",
    "  for i in np.arange(0, out_height):\n",
    "    for j in np.arange(0, out_width):\n",
    "\n",
    "      # Set output to the value of the first element in the window\n",
    "      out_val = img[(stride_y * i), (stride_x * j)]\n",
    "\n",
    "      # Look through each element in the window to find the max value\n",
    "      for m in np.arange(0, pool_height):\n",
    "        for n in np.arange(0, pool_width):\n",
    "          out_val = max(out_val, img[(stride_y * i) + m, (stride_x * j) + n])\n",
    "\n",
    "      # Set element in output array to the max value\n",
    "      pooled_img[i, j] = out_val\n",
    "      #print(\" outval=\",i,j,pooled_img[i,j])\n",
    "\n",
    "  # Round all elements, convert to integers, and clamp to values between 0 and 255\n",
    "  pooled_img = np.rint(pooled_img).astype(int)\n",
    "  pooled_img = np.clip(pooled_img, 0, 255)\n",
    "\n",
    "  return pooled_img"
   ]
  },
  {
   "cell_type": "code",
   "execution_count": 10,
   "metadata": {},
   "outputs": [],
   "source": [
    "### average pooling function to do\n"
   ]
  },
  {
   "cell_type": "code",
   "execution_count": 55,
   "metadata": {},
   "outputs": [
    {
     "name": "stdout",
     "output_type": "stream",
     "text": [
      "(14, 13)\n"
     ]
    },
    {
     "data": {
      "text/plain": [
       "<matplotlib.image.AxesImage at 0x1b8d7df12b0>"
      ]
     },
     "execution_count": 55,
     "metadata": {},
     "output_type": "execute_result"
    },
    {
     "data": {
      "image/png": "[encoded data removed]",
      "text/plain": [
       "<Figure size 432x288 with 1 Axes>"
      ]
     },
     "metadata": {
      "needs_background": "light"
     },
     "output_type": "display_data"
    }
   ],
   "source": [
    "### Test 1: Max pool original image with pool size of (2, 3)\n",
    "\n",
    "# Call pooling function (with pool_size=(2, 3) and stride=2)\n",
    "out_img = maxpool_1(img, 2, 3, 2)\n",
    "\n",
    "# Show dimensions and view array as image\n",
    "print(out_img.shape)\n",
    "plt.imshow(out_img, cmap='gray', vmin=0, vmax=255)"
   ]
  },
  {
   "cell_type": "code",
   "execution_count": 56,
   "metadata": {},
   "outputs": [
    {
     "name": "stdout",
     "output_type": "stream",
     "text": [
      "(14, 9)\n"
     ]
    },
    {
     "data": {
      "text/plain": [
       "<matplotlib.image.AxesImage at 0x1b8d7e43220>"
      ]
     },
     "execution_count": 56,
     "metadata": {},
     "output_type": "execute_result"
    },
    {
     "data": {
      "image/png": "[encoded data removed]",
      "text/plain": [
       "<Figure size 432x288 with 1 Axes>"
      ]
     },
     "metadata": {
      "needs_background": "light"
     },
     "output_type": "display_data"
    }
   ],
   "source": [
    "### Test 1: Max pool original image with pool size of (2, 3)\n",
    "\n",
    "out_img = maxpool_2(img, 2, 3)\n",
    "\n",
    "# Show dimensions and view array as image\n",
    "print(out_img.shape)\n",
    "plt.imshow(out_img, cmap='gray', vmin=0, vmax=255)"
   ]
  },
  {
   "cell_type": "code",
   "execution_count": 57,
   "metadata": {},
   "outputs": [
    {
     "name": "stdout",
     "output_type": "stream",
     "text": [
      "kernel= [[-1 -1 -1]\n",
      " [-1  8 -1]\n",
      " [-1 -1 -1]]\n",
      "stride of  1\n",
      "out image height= 26\n",
      "out image width= 26\n",
      "convolved_img= [[   8.    6.    5.   -4.    4.   -1.   -3.   -5.   -7.    0.    3.   -2.\n",
      "    -6.   -6.   -5.   -6.    1.    0.    1.   -4.   -3.   -1.   -1.    0.\n",
      "     1.    4.]\n",
      " [   8.    1.    1.    1.    0.   -4.    1.    7.    5.    2.   -8.    2.\n",
      "    -4.   -2.    1.   -9.   -2.    8.   -5.   12.   -4.    8.   -1.    0.\n",
      "     0.    1.]\n",
      " [   4.    1.    0.   -2.   -5.   -1.    4.   -1.   -4.   -9.  -12.   22.\n",
      "     5.    8.    2.   -7.    9.    4.  -17.   -4.   -8.   -1.   -1.   -1.\n",
      "    -2.   -2.]\n",
      " [  -6.   -1.   -4.   -8.    7.    1.   -6.  -15.   -3.   -9.   -1.    8.\n",
      "     2.    5.   -2.    7.    6.   10.   -1.   14.  -11.   -1.   -1.   -4.\n",
      "     3.    3.]\n",
      " [   1.   -4.    9.    4.    2.   -6.    1.   15.   17.   12.    7.    2.\n",
      "     0.    1.    1.    1.    0.    2.    6.   11.  -12.   -7.   -6.   -1.\n",
      "     2.   -6.]\n",
      " [  -1.    2.    5.    0.    0.  -11.    8.   10.   -5.   -6.    1.    0.\n",
      "     0.    0.    0.   -2.   -4.   -4.    0.    2.   -7.    4.  -21.   -6.\n",
      "     6.   10.]\n",
      " [  -3.   -9.    1.   -4.   -7.  -19.   10.    6.   -6.    3.    1.    0.\n",
      "     0.    0.   -1.   -5.    9.    8.   -6.    1.   -4.   11.    5.   -4.\n",
      "    10.   15.]\n",
      " [  -8.    6.   -2.    6.   -3.   -6.    2.    3.    1.    1.    0.    0.\n",
      "     0.   -1.   -4.   -1.    3.    2.    5.    0.    2.    5.    9.    2.\n",
      "     2.    6.]\n",
      " [   4.    2.   -6.   -1.   20.    9.    4.    2.    1.    1.    0.   -1.\n",
      "    -3.   -6.   -1.    4.    1.    2.    5.    8.   10.    3.   -3.   -1.\n",
      "     1.    3.]\n",
      " [   0.    0.   -4.    2.   14.   10.    5.    5.   -8.   -5.  -11.  -13.\n",
      "    -8.   -7.  -11.   -2.   31.   74.   79.   64.   28.    5.   -2.    0.\n",
      "     1.   -5.]\n",
      " [   2.    1.   -2.   -9.   16.   97.  216.  255.  231.  212.  188.  136.\n",
      "   142.  183.  212.  211.  196.   83.   18.   71.   81.   74.   -2.   -5.\n",
      "    -3.    3.]\n",
      " [  -7.    1.    0.    0.   96.   22. -186. -452. -101. -139.  -34.   79.\n",
      "    59. -100.  -93. -126. -200. -336. -479. -264. -251.  126.   26.   11.\n",
      "    14.    4.]\n",
      " [   5.    6.   10.   33.  175. -137.  -93. -284.  162. -235. -460. -178.\n",
      "   -22. -338.  -44.   25.  -15.  139.  399.  357. -137.  130.  195.  107.\n",
      "    54.    1.]\n",
      " [ 216.  186.  172.  191.  177.  -41.   -5.  -97.  328.  342.  311.  235.\n",
      "   231. -141.   94.   69.  -15.   14.   67.  154.  -72. -244. -155. -275.\n",
      "    15.   56.]\n",
      " [-281. -248. -159. -118. -163.   15.  -11. -256.  138. -178. -398.  -92.\n",
      "   111. -210.   -5.   41.   -6.  -48. -280.  -63.  -40.  -26.  274.  181.\n",
      "   108.   48.]\n",
      " [ -33.  -68.  -98.  -69. -143.  -11.  -37. -203.  185.   19. -150.   32.\n",
      "   168. -103.   23.   71.   21.   24. -130.    0.  -83. -142. -199. -253.\n",
      "  -249. -238.]\n",
      " [  50.   55.   78.  128.   10.  -90.  -23. -117.  103.  -42. -220. -200.\n",
      "  -136. -245. -222. -162. -132.  -18.  -96. -135.  -89.  214.  168.  144.\n",
      "   134.  143.]\n",
      " [  51.   55.   55.  117.  126. -198. -329. -327. -292. -160.  -65.  -13.\n",
      "    -5.   -8.   23.  -32. -161. -264. -244. -162.   29.  114.   40.   29.\n",
      "    -3.    7.]\n",
      " [  -2.    5.    2.   14.   93.  150.  145.  163.  184.  244.  209.  198.\n",
      "   178.  169.  172.  199.  203.  210.  214.  163.   88.   23.   15.    1.\n",
      "    -5.    3.]\n",
      " [   0.   -2.   -5.  -15.   17.   46.   73.   86.   63.   38.    7.    7.\n",
      "    11.   10.    6.   16.   23.   23.   32.   26.    2.   -4.   -7.   -6.\n",
      "     0.  -14.]\n",
      " [   4.    1.   -3.    0.   18.    2.   -5.    9.    7.    0.   -1.    5.\n",
      "     3.   -8.   -4.   17.    7.    0.   -8.   -6.   -3.    0.    0.    0.\n",
      "     4.    8.]\n",
      " [  -1.    3.   -3.   -5.   16.   10.    1.   -4.   -5.   -4.   -5.    2.\n",
      "     2.   -9.    3.   -2.   -4.   -2.    6.    7.   -1.    0.    1.    2.\n",
      "     6.   -8.]\n",
      " [  -5.    7.    1.   -5.  -14.    0.   14.    5.    1.    0.   -1.   -2.\n",
      "    -2.   -4.    2.    9.  -12.    3.   -2.   -1.    0.    1.    3.   -3.\n",
      "     3.   -3.]\n",
      " [  -2.   -6.    8.    7.   -6.   -7.   -4.   11.   11.    5.    1.    1.\n",
      "     1.    0.   -3.   -3.   -6.    9.    3.    4.   -4.    7.    9.   -6.\n",
      "    -2.   -1.]\n",
      " [   5.   -1.   -4.   -5.   -6.   -3.   -3.   -4.   -6.    8.    6.    2.\n",
      "    -8.    1.    0.    0.    0.   -3.    2.    9.   -8.   -6.   -4.   -2.\n",
      "     0.    0.]\n",
      " [  11.   10.    4.    0.   -1.   -7.    8.  -15.  -13.   -2.    9.    9.\n",
      "     4.    2.    0.    0.    2.  -17.   -1.   -4.    6.    1.    3.    3.\n",
      "     1.    0.]]\n",
      "(13, 13)\n"
     ]
    },
    {
     "data": {
      "text/plain": [
       "<matplotlib.image.AxesImage at 0x1b8d7e98b50>"
      ]
     },
     "execution_count": 57,
     "metadata": {},
     "output_type": "execute_result"
    },
    {
     "data": {
      "image/png": "[encoded data removed]",
      "text/plain": [
       "<Figure size 432x288 with 1 Axes>"
      ]
     },
     "metadata": {
      "needs_background": "light"
     },
     "output_type": "display_data"
    }
   ],
   "source": [
    "### Test 2a: Detect edges and pool\n",
    "\n",
    "# Define kernel\n",
    "kernel = np.array([[-1, -1, -1],\n",
    "                   [-1, 8, -1],\n",
    "                   [-1, -1, -1]])\n",
    "\n",
    "# Call your convolve function (with a stride of 1)\n",
    "convolved_img = convolve(img, kernel, 1)\n",
    "\n",
    "# Call your pooling function (with pool_size=(2, 2) and stride 2)\n",
    "out_img = maxpool_1(convolved_img, 2, 2, 2)\n",
    "\n",
    "# Show dimensions and view array as image\n",
    "print(out_img.shape)\n",
    "plt.imshow(out_img, cmap='gray', vmin=0, vmax=255)"
   ]
  },
  {
   "cell_type": "code",
   "execution_count": 58,
   "metadata": {},
   "outputs": [
    {
     "name": "stdout",
     "output_type": "stream",
     "text": [
      "kernel= [[-1 -1 -1]\n",
      " [-1  8 -1]\n",
      " [-1 -1 -1]]\n",
      "stride of  1\n",
      "out image height= 26\n",
      "out image width= 26\n",
      "convolved_img= [[   8.    6.    5.   -4.    4.   -1.   -3.   -5.   -7.    0.    3.   -2.\n",
      "    -6.   -6.   -5.   -6.    1.    0.    1.   -4.   -3.   -1.   -1.    0.\n",
      "     1.    4.]\n",
      " [   8.    1.    1.    1.    0.   -4.    1.    7.    5.    2.   -8.    2.\n",
      "    -4.   -2.    1.   -9.   -2.    8.   -5.   12.   -4.    8.   -1.    0.\n",
      "     0.    1.]\n",
      " [   4.    1.    0.   -2.   -5.   -1.    4.   -1.   -4.   -9.  -12.   22.\n",
      "     5.    8.    2.   -7.    9.    4.  -17.   -4.   -8.   -1.   -1.   -1.\n",
      "    -2.   -2.]\n",
      " [  -6.   -1.   -4.   -8.    7.    1.   -6.  -15.   -3.   -9.   -1.    8.\n",
      "     2.    5.   -2.    7.    6.   10.   -1.   14.  -11.   -1.   -1.   -4.\n",
      "     3.    3.]\n",
      " [   1.   -4.    9.    4.    2.   -6.    1.   15.   17.   12.    7.    2.\n",
      "     0.    1.    1.    1.    0.    2.    6.   11.  -12.   -7.   -6.   -1.\n",
      "     2.   -6.]\n",
      " [  -1.    2.    5.    0.    0.  -11.    8.   10.   -5.   -6.    1.    0.\n",
      "     0.    0.    0.   -2.   -4.   -4.    0.    2.   -7.    4.  -21.   -6.\n",
      "     6.   10.]\n",
      " [  -3.   -9.    1.   -4.   -7.  -19.   10.    6.   -6.    3.    1.    0.\n",
      "     0.    0.   -1.   -5.    9.    8.   -6.    1.   -4.   11.    5.   -4.\n",
      "    10.   15.]\n",
      " [  -8.    6.   -2.    6.   -3.   -6.    2.    3.    1.    1.    0.    0.\n",
      "     0.   -1.   -4.   -1.    3.    2.    5.    0.    2.    5.    9.    2.\n",
      "     2.    6.]\n",
      " [   4.    2.   -6.   -1.   20.    9.    4.    2.    1.    1.    0.   -1.\n",
      "    -3.   -6.   -1.    4.    1.    2.    5.    8.   10.    3.   -3.   -1.\n",
      "     1.    3.]\n",
      " [   0.    0.   -4.    2.   14.   10.    5.    5.   -8.   -5.  -11.  -13.\n",
      "    -8.   -7.  -11.   -2.   31.   74.   79.   64.   28.    5.   -2.    0.\n",
      "     1.   -5.]\n",
      " [   2.    1.   -2.   -9.   16.   97.  216.  255.  231.  212.  188.  136.\n",
      "   142.  183.  212.  211.  196.   83.   18.   71.   81.   74.   -2.   -5.\n",
      "    -3.    3.]\n",
      " [  -7.    1.    0.    0.   96.   22. -186. -452. -101. -139.  -34.   79.\n",
      "    59. -100.  -93. -126. -200. -336. -479. -264. -251.  126.   26.   11.\n",
      "    14.    4.]\n",
      " [   5.    6.   10.   33.  175. -137.  -93. -284.  162. -235. -460. -178.\n",
      "   -22. -338.  -44.   25.  -15.  139.  399.  357. -137.  130.  195.  107.\n",
      "    54.    1.]\n",
      " [ 216.  186.  172.  191.  177.  -41.   -5.  -97.  328.  342.  311.  235.\n",
      "   231. -141.   94.   69.  -15.   14.   67.  154.  -72. -244. -155. -275.\n",
      "    15.   56.]\n",
      " [-281. -248. -159. -118. -163.   15.  -11. -256.  138. -178. -398.  -92.\n",
      "   111. -210.   -5.   41.   -6.  -48. -280.  -63.  -40.  -26.  274.  181.\n",
      "   108.   48.]\n",
      " [ -33.  -68.  -98.  -69. -143.  -11.  -37. -203.  185.   19. -150.   32.\n",
      "   168. -103.   23.   71.   21.   24. -130.    0.  -83. -142. -199. -253.\n",
      "  -249. -238.]\n",
      " [  50.   55.   78.  128.   10.  -90.  -23. -117.  103.  -42. -220. -200.\n",
      "  -136. -245. -222. -162. -132.  -18.  -96. -135.  -89.  214.  168.  144.\n",
      "   134.  143.]\n",
      " [  51.   55.   55.  117.  126. -198. -329. -327. -292. -160.  -65.  -13.\n",
      "    -5.   -8.   23.  -32. -161. -264. -244. -162.   29.  114.   40.   29.\n",
      "    -3.    7.]\n",
      " [  -2.    5.    2.   14.   93.  150.  145.  163.  184.  244.  209.  198.\n",
      "   178.  169.  172.  199.  203.  210.  214.  163.   88.   23.   15.    1.\n",
      "    -5.    3.]\n",
      " [   0.   -2.   -5.  -15.   17.   46.   73.   86.   63.   38.    7.    7.\n",
      "    11.   10.    6.   16.   23.   23.   32.   26.    2.   -4.   -7.   -6.\n",
      "     0.  -14.]\n",
      " [   4.    1.   -3.    0.   18.    2.   -5.    9.    7.    0.   -1.    5.\n",
      "     3.   -8.   -4.   17.    7.    0.   -8.   -6.   -3.    0.    0.    0.\n",
      "     4.    8.]\n",
      " [  -1.    3.   -3.   -5.   16.   10.    1.   -4.   -5.   -4.   -5.    2.\n",
      "     2.   -9.    3.   -2.   -4.   -2.    6.    7.   -1.    0.    1.    2.\n",
      "     6.   -8.]\n",
      " [  -5.    7.    1.   -5.  -14.    0.   14.    5.    1.    0.   -1.   -2.\n",
      "    -2.   -4.    2.    9.  -12.    3.   -2.   -1.    0.    1.    3.   -3.\n",
      "     3.   -3.]\n",
      " [  -2.   -6.    8.    7.   -6.   -7.   -4.   11.   11.    5.    1.    1.\n",
      "     1.    0.   -3.   -3.   -6.    9.    3.    4.   -4.    7.    9.   -6.\n",
      "    -2.   -1.]\n",
      " [   5.   -1.   -4.   -5.   -6.   -3.   -3.   -4.   -6.    8.    6.    2.\n",
      "    -8.    1.    0.    0.    0.   -3.    2.    9.   -8.   -6.   -4.   -2.\n",
      "     0.    0.]\n",
      " [  11.   10.    4.    0.   -1.   -7.    8.  -15.  -13.   -2.    9.    9.\n",
      "     4.    2.    0.    0.    2.  -17.   -1.   -4.    6.    1.    3.    3.\n",
      "     1.    0.]]\n",
      "(13, 13)\n"
     ]
    },
    {
     "data": {
      "text/plain": [
       "<matplotlib.image.AxesImage at 0x1b8d7ef3c40>"
      ]
     },
     "execution_count": 58,
     "metadata": {},
     "output_type": "execute_result"
    },
    {
     "data": {
      "image/png": "[encoded data removed]",
      "text/plain": [
       "<Figure size 432x288 with 1 Axes>"
      ]
     },
     "metadata": {
      "needs_background": "light"
     },
     "output_type": "display_data"
    }
   ],
   "source": [
    "### Test 2b: Detect edges and pool\n",
    "\n",
    "# Define kernel\n",
    "kernel = np.array([[-1, -1, -1],\n",
    "                   [-1, 8, -1],\n",
    "                   [-1, -1, -1]])\n",
    "\n",
    "# Call your convolve function (with a stride of 1)\n",
    "convolved_img = convolve(img, kernel, 1)\n",
    "\n",
    "# Call your pooling function (with pool_size=(2, 2))\n",
    "out_img = maxpool_2(convolved_img, 2, 2)\n",
    "\n",
    "# Show dimensions and view array as image\n",
    "print(out_img.shape)\n",
    "plt.imshow(out_img, cmap='gray', vmin=0, vmax=255)"
   ]
  },
  {
   "cell_type": "code",
   "execution_count": 59,
   "metadata": {},
   "outputs": [],
   "source": [
    "### average output....."
   ]
  }
 ],
 "metadata": {
  "kernelspec": {
   "display_name": "Python [conda env:root]",
   "language": "python",
   "name": "conda-root-py"
  },
  "language_info": {
   "codemirror_mode": {
    "name": "ipython",
    "version": 3
   },
   "file_extension": ".py",
   "mimetype": "text/x-python",
   "name": "python",
   "nbconvert_exporter": "python",
   "pygments_lexer": "ipython3",
   "version": "3.8.3"
  }
 },
 "nbformat": 4,
 "nbformat_minor": 4
}
