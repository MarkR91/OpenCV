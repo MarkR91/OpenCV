{
 "cells": [
  {
   "cell_type": "markdown",
   "metadata": {},
   "source": [
    "Recognizing Shapes in Objects with OpenCV\n",
    "=========================================\n"
   ]
  },
  {
   "cell_type": "markdown",
   "metadata": {},
   "source": [
    "Import libraries."
   ]
  },
  {
   "cell_type": "code",
   "execution_count": 15,
   "metadata": {},
   "outputs": [],
   "source": [
    "import cv2\n",
    "import numpy as np\n",
    "import os # Contains os.path python method/function"
   ]
  },
  {
   "cell_type": "markdown",
   "metadata": {},
   "source": [
    "Image filenames."
   ]
  },
  {
   "cell_type": "code",
   "execution_count": 16,
   "metadata": {
    "scrolled": true
   },
   "outputs": [],
   "source": [
    "#Tuple data structure is used to store file names\n",
    "\n",
    "files = (   \n",
    "    'breakfast.jpg',\n",
    "    'landscape-house.jpg',\n",
    "     'dinner.jpg',\n",
    "    'building.jpg'\n",
    ")\n",
    "\n",
    "# Try the format image_file = r'..\\..\\..\\images\\xxx.jpg' if any problems with reading an image.\n",
    "\n",
    "# \"Set x[0 to 2] in files[x] in order read the desired image\"\n",
    "image_file = os.path.join(\"images\",files[2])\n"
   ]
  },
  {
   "cell_type": "markdown",
   "metadata": {},
   "source": [
    "Define a function for viewing images."
   ]
  },
  {
   "cell_type": "code",
   "execution_count": 17,
   "metadata": {},
   "outputs": [],
   "source": [
    "def imageviewer(f):\n",
    "    cv2.imshow('view',f)\n",
    "    cv2.waitKey(0)\n",
    "    cv2.destroyAllWindows()\n",
    "    "
   ]
  },
  {
   "cell_type": "markdown",
   "metadata": {},
   "source": [
    "Read an image from file."
   ]
  },
  {
   "cell_type": "code",
   "execution_count": 18,
   "metadata": {},
   "outputs": [
    {
     "name": "stdout",
     "output_type": "stream",
     "text": [
      "True\n"
     ]
    }
   ],
   "source": [
    "# Check if image can be read.\n",
    "b = cv2.haveImageReader(image_file)\n",
    "print(b)\n",
    "\n",
    "# Read and show image\n",
    "i=cv2.imread(image_file)\n",
    "imageviewer(i)"
   ]
  },
  {
   "cell_type": "markdown",
   "metadata": {},
   "source": [
    "Inspect image contents"
   ]
  },
  {
   "cell_type": "code",
   "execution_count": 19,
   "metadata": {},
   "outputs": [
    {
     "name": "stdout",
     "output_type": "stream",
     "text": [
      "(427, 640, 3)\n",
      "[43 47 52]\n"
     ]
    }
   ],
   "source": [
    "print(i.shape)\n",
    "print(i[0,0,:])"
   ]
  },
  {
   "cell_type": "markdown",
   "metadata": {},
   "source": [
    "Gray-scale"
   ]
  },
  {
   "cell_type": "code",
   "execution_count": 20,
   "metadata": {},
   "outputs": [
    {
     "name": "stdout",
     "output_type": "stream",
     "text": [
      "48\n",
      "(427, 640)\n"
     ]
    }
   ],
   "source": [
    "# Need to convert image to gray scale as most tools wouldn't work well with RGB images\n",
    "gray_img = cv2.cvtColor(i,cv2.COLOR_BGR2GRAY)\n",
    "imageviewer(gray_img)\n",
    "print(gray_img[0,0])\n",
    "print(gray_img.shape)"
   ]
  },
  {
   "cell_type": "markdown",
   "metadata": {},
   "source": [
    "X gradient"
   ]
  },
  {
   "cell_type": "code",
   "execution_count": 21,
   "metadata": {},
   "outputs": [],
   "source": [
    "# Differentitate with Sobel function in OpenCV.This will be useful for detection of edges.\n",
    "# Look for brightness increases in the x-direction with following code.\n",
    "x_gradient = cv2.Sobel(gray_img,cv2.CV_64F,1,0)\n",
    "\n",
    "# Need to get postive values\n",
    "x_gradient_abs = np.absolute(x_gradient)\n",
    "\n",
    "# Divide by maximum value/brightness to normalize to between 0 and 1.\n",
    "imageviewer(x_gradient_abs/np.max(x_gradient_abs))"
   ]
  },
  {
   "cell_type": "markdown",
   "metadata": {},
   "source": [
    "Y gradient"
   ]
  },
  {
   "cell_type": "code",
   "execution_count": 22,
   "metadata": {},
   "outputs": [],
   "source": [
    "# Look for brightness increases in the y-direction with following code.\n",
    "y_gradient = cv2.Sobel(gray_img,cv2.CV_64F,0,1)\n",
    "\n",
    "# Need to get postive values\n",
    "y_gradient_abs = np.absolute(y_gradient)\n",
    "\n",
    "# Divide by maximum value/brightness to normalize to between 0 and 1.\n",
    "imageviewer(y_gradient_abs/np.max(y_gradient_abs))"
   ]
  },
  {
   "cell_type": "markdown",
   "metadata": {},
   "source": [
    "Magnitude of gradient vector"
   ]
  },
  {
   "cell_type": "code",
   "execution_count": 23,
   "metadata": {},
   "outputs": [],
   "source": [
    "# Sum x and y gradients\n",
    "sum = np.sqrt(x_gradient**2+y_gradient**2)\n",
    "imageviewer(sum/(np.max(sum)))"
   ]
  },
  {
   "cell_type": "markdown",
   "metadata": {},
   "source": [
    "Canny edge detection"
   ]
  },
  {
   "cell_type": "code",
   "execution_count": 24,
   "metadata": {},
   "outputs": [],
   "source": [
    "edges = cv2.Canny(gray_img,50,100) #Adjust integer parameters to either reduce or increase number of edges shown. Try changing the high/low thresholds 100/50 to 150/100\n",
    "                  \n",
    "imageviewer(edges)"
   ]
  },
  {
   "cell_type": "markdown",
   "metadata": {},
   "source": [
    "Hough transform for lines"
   ]
  },
  {
   "cell_type": "code",
   "execution_count": 25,
   "metadata": {},
   "outputs": [],
   "source": [
    "# Detecting lines using Hough transforms where x and y coordinates are replaced by parametric rho and theta coordinates because you can get infinite gradients using the xy coordinate system.\n",
    "# rho => y pixels and theta => x pixels\n",
    "\n",
    "lines = cv2.HoughLinesP(edges,rho=1,theta=1.*np.pi/180.0,threshold=20,minLineLength=25,maxLineGap=5)\n",
    "i_lines = i.copy()\n",
    "\n",
    "for l in lines:\n",
    "    x1,y1,x2,y2 = l[0]\n",
    "    cv2.line(i_lines,(x1,y1),(x2,y2),(0,0,255),thickness=3)\n",
    "    \n",
    "imageviewer(i_lines)\n"
   ]
  },
  {
   "cell_type": "markdown",
   "metadata": {},
   "source": [
    "Hough transform for circles"
   ]
  },
  {
   "cell_type": "code",
   "execution_count": 26,
   "metadata": {},
   "outputs": [
    {
     "data": {
      "text/plain": [
       "'if circles is not None:\\n    # convert the (x, y) coordinates and radius of the circles to integers\\n    circles = np.round(circles[0, :]).astype(\"int\")\\n\\n\\ndetected_circles = np.uint16(np.around(circles))\\ndetected_circles = circles.copy()\\n\\nfor x, y, r in circles[0,:]:\\n        cv2.circle(detected_circles, x, y,r, (0, 0, 255), 3)\\n        #cv.circle(detected_circles, (x, y), 2, (255, 0, 0), 3)\\n\\n\\nimageviewer(circles)\\n'"
      ]
     },
     "execution_count": 26,
     "metadata": {},
     "output_type": "execute_result"
    }
   ],
   "source": [
    "# References: 1) https://theailearner.com/tag/cv2-houghcircles/\n",
    "#             2) https://www.delftstack.com/howto/python/opencv-draw-circle/\n",
    "#             3) https://pyimagesearch.com/2014/07/21/detecting-circles-images-using-opencv-hough-circles/\n",
    "\n",
    "# Apply Hough transform to greyscale image\n",
    "circles = cv2.HoughCircles(gray_img,cv2.HOUGH_GRADIENT,dp=2,minDist=35,param1=150,param2=40,minRadius=15,maxRadius=25)\n",
    "\n",
    "# convert the (x, y) coordinates and radius of the circles to integers\n",
    "circles = np.uint16(np.around(circles))\n",
    "\n",
    "\n",
    "# Draw the circles\n",
    "for x in circles[0,:]:\n",
    "    # draw the outer circle\n",
    "    cv2.circle(i,(x[0],x[1]),x[2],(0,0,255),2)\n",
    "    # draw the center of the circle\n",
    "    cv2.circle(i,(x[0],x[1]),2,(0,0,255),3)\n",
    "\n",
    "\n",
    "imageviewer(i)\n",
    "\n",
    "'''if circles is not None:\n",
    "    # convert the (x, y) coordinates and radius of the circles to integers\n",
    "    circles = np.round(circles[0, :]).astype(\"int\")\n",
    "\n",
    "\n",
    "detected_circles = np.uint16(np.around(circles))\n",
    "detected_circles = circles.copy()\n",
    "\n",
    "for x, y, r in circles[0,:]:\n",
    "        cv2.circle(detected_circles, x, y,r, (0, 0, 255), 3)\n",
    "        #cv.circle(detected_circles, (x, y), 2, (255, 0, 0), 3)\n",
    "\n",
    "\n",
    "imageviewer(circles)\n",
    "'''"
   ]
  },
  {
   "cell_type": "markdown",
   "metadata": {},
   "source": [
    "Blur the image first"
   ]
  },
  {
   "cell_type": "code",
   "execution_count": 27,
   "metadata": {},
   "outputs": [],
   "source": [
    "#Blur image to reduce nosie in order to improve circle detection\n",
    "#blurry_img = cv2.GaussianBlur(gray_img,ksize=(13,13),sigmaX=0,)\n",
    "blurry_img = cv2.blur(gray_img,(9,9))\n",
    "\n",
    "#View without circles: \n",
    "imageviewer(blurry_img)\n",
    "\n"
   ]
  },
  {
   "cell_type": "markdown",
   "metadata": {},
   "source": [
    "Circle detection on blurred image"
   ]
  },
  {
   "cell_type": "code",
   "execution_count": 28,
   "metadata": {},
   "outputs": [],
   "source": [
    "# Circle detection code reused from above\n",
    "circles = cv2.HoughCircles(blurry_img,cv2.HOUGH_GRADIENT,dp=2,minDist=35,param1=150,param2=40,minRadius=15,maxRadius=25)\n",
    "\n",
    "\n",
    "# convert the (x, y) coordinates and radius of the circles to integers\n",
    "circles = np.uint16(np.around(circles))\n",
    "\n",
    "\n",
    "# Draw the circles\n",
    "for x in circles[0,:]:\n",
    "    # draw the outer circle\n",
    "    cv2.circle(i,(x[0],x[1]),x[2],(0,0,225),2)\n",
    "    #draw the center of the circle\n",
    "    cv2.circle(i,(x[0],x[1]),2,(0,0,255),3)\n",
    "    \n",
    "\n",
    "imageviewer(i)\n"
   ]
  },
  {
   "cell_type": "code",
   "execution_count": null,
   "metadata": {},
   "outputs": [],
   "source": []
  },
  {
   "cell_type": "code",
   "execution_count": null,
   "metadata": {},
   "outputs": [],
   "source": []
  },
  {
   "cell_type": "code",
   "execution_count": null,
   "metadata": {},
   "outputs": [],
   "source": []
  }
 ],
 "metadata": {
  "kernelspec": {
   "display_name": "Python 3",
   "language": "python",
   "name": "python3"
  },
  "language_info": {
   "codemirror_mode": {
    "name": "ipython",
    "version": 3
   },
   "file_extension": ".py",
   "mimetype": "text/x-python",
   "name": "python",
   "nbconvert_exporter": "python",
   "pygments_lexer": "ipython3",
   "version": "3.8.3"
  }
 },
 "nbformat": 4,
 "nbformat_minor": 4
}
